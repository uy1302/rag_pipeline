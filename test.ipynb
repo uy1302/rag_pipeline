{
 "cells": [
  {
   "cell_type": "code",
   "execution_count": 1,
   "metadata": {},
   "outputs": [
    {
     "name": "stderr",
     "output_type": "stream",
     "text": [
      "/home/uy/rag_pipeline/venv/lib/python3.12/site-packages/tqdm/auto.py:21: TqdmWarning: IProgress not found. Please update jupyter and ipywidgets. See https://ipywidgets.readthedocs.io/en/stable/user_install.html\n",
      "  from .autonotebook import tqdm as notebook_tqdm\n",
      "2024-11-27 17:15:27.229932: E external/local_xla/xla/stream_executor/cuda/cuda_fft.cc:477] Unable to register cuFFT factory: Attempting to register factory for plugin cuFFT when one has already been registered\n",
      "WARNING: All log messages before absl::InitializeLog() is called are written to STDERR\n",
      "E0000 00:00:1732702527.247265   43297 cuda_dnn.cc:8310] Unable to register cuDNN factory: Attempting to register factory for plugin cuDNN when one has already been registered\n",
      "E0000 00:00:1732702527.253762   43297 cuda_blas.cc:1418] Unable to register cuBLAS factory: Attempting to register factory for plugin cuBLAS when one has already been registered\n",
      "2024-11-27 17:15:27.278928: I tensorflow/core/platform/cpu_feature_guard.cc:210] This TensorFlow binary is optimized to use available CPU instructions in performance-critical operations.\n",
      "To enable the following instructions: AVX2 FMA, in other operations, rebuild TensorFlow with the appropriate compiler flags.\n"
     ]
    }
   ],
   "source": [
    "from ingest import TextEmbedder\n",
    "import numpy as np\n",
    "import pandas as pd\n",
    "\n",
    "import re\n",
    "import tf_keras"
   ]
  },
  {
   "cell_type": "code",
   "execution_count": 2,
   "metadata": {},
   "outputs": [
    {
     "data": {
      "text/html": [
       "<div>\n",
       "<style scoped>\n",
       "    .dataframe tbody tr th:only-of-type {\n",
       "        vertical-align: middle;\n",
       "    }\n",
       "\n",
       "    .dataframe tbody tr th {\n",
       "        vertical-align: top;\n",
       "    }\n",
       "\n",
       "    .dataframe thead th {\n",
       "        text-align: right;\n",
       "    }\n",
       "</style>\n",
       "<table border=\"1\" class=\"dataframe\">\n",
       "  <thead>\n",
       "    <tr style=\"text-align: right;\">\n",
       "      <th></th>\n",
       "      <th>Unnamed: 0</th>\n",
       "      <th>Plot</th>\n",
       "    </tr>\n",
       "  </thead>\n",
       "  <tbody>\n",
       "    <tr>\n",
       "      <th>0</th>\n",
       "      <td>0</td>\n",
       "      <td>🌐 Viblo Talk 2024 đã trở lại với chủ đề Cyber ...</td>\n",
       "    </tr>\n",
       "    <tr>\n",
       "      <th>1</th>\n",
       "      <td>1</td>\n",
       "      <td>Bạn đang làm việc trong ngành CNTT và mong muố...</td>\n",
       "    </tr>\n",
       "    <tr>\n",
       "      <th>2</th>\n",
       "      <td>2</td>\n",
       "      <td>Redis là một kho lưu trữ key-value hiệu suất c...</td>\n",
       "    </tr>\n",
       "    <tr>\n",
       "      <th>3</th>\n",
       "      <td>3</td>\n",
       "      <td>Là một lập trình viên, bạn không thể lường trư...</td>\n",
       "    </tr>\n",
       "    <tr>\n",
       "      <th>4</th>\n",
       "      <td>4</td>\n",
       "      <td>Sau một thời gian viết blog, đã có hơn 28,000 ...</td>\n",
       "    </tr>\n",
       "    <tr>\n",
       "      <th>...</th>\n",
       "      <td>...</td>\n",
       "      <td>...</td>\n",
       "    </tr>\n",
       "    <tr>\n",
       "      <th>95</th>\n",
       "      <td>95</td>\n",
       "      <td>Hôm nay mình đã thử tự code lại Promise trong ...</td>\n",
       "    </tr>\n",
       "    <tr>\n",
       "      <th>96</th>\n",
       "      <td>96</td>\n",
       "      <td>Tableau\\nTableau là một trong những công cụ ph...</td>\n",
       "    </tr>\n",
       "    <tr>\n",
       "      <th>97</th>\n",
       "      <td>97</td>\n",
       "      <td>Xin chào mọi người.\\nKhi chúng ta đếm các bản ...</td>\n",
       "    </tr>\n",
       "    <tr>\n",
       "      <th>98</th>\n",
       "      <td>98</td>\n",
       "      <td>Cài đặt gói\\nyarn add react-onesignal\\nvới ver...</td>\n",
       "    </tr>\n",
       "    <tr>\n",
       "      <th>99</th>\n",
       "      <td>99</td>\n",
       "      <td>1. Tổng quan\\nLogging\\nLogging là một phần khô...</td>\n",
       "    </tr>\n",
       "  </tbody>\n",
       "</table>\n",
       "<p>100 rows × 2 columns</p>\n",
       "</div>"
      ],
      "text/plain": [
       "    Unnamed: 0                                               Plot\n",
       "0            0  🌐 Viblo Talk 2024 đã trở lại với chủ đề Cyber ...\n",
       "1            1  Bạn đang làm việc trong ngành CNTT và mong muố...\n",
       "2            2  Redis là một kho lưu trữ key-value hiệu suất c...\n",
       "3            3  Là một lập trình viên, bạn không thể lường trư...\n",
       "4            4  Sau một thời gian viết blog, đã có hơn 28,000 ...\n",
       "..         ...                                                ...\n",
       "95          95  Hôm nay mình đã thử tự code lại Promise trong ...\n",
       "96          96  Tableau\\nTableau là một trong những công cụ ph...\n",
       "97          97  Xin chào mọi người.\\nKhi chúng ta đếm các bản ...\n",
       "98          98  Cài đặt gói\\nyarn add react-onesignal\\nvới ver...\n",
       "99          99  1. Tổng quan\\nLogging\\nLogging là một phần khô...\n",
       "\n",
       "[100 rows x 2 columns]"
      ]
     },
     "execution_count": 2,
     "metadata": {},
     "output_type": "execute_result"
    }
   ],
   "source": [
    "df = pd.read_csv(\"viblo_data.csv\")\n",
    "df = df.drop(columns=['URL','Title'])\n",
    "df"
   ]
  },
  {
   "cell_type": "code",
   "execution_count": 3,
   "metadata": {},
   "outputs": [],
   "source": [
    "def split_para_to_sentence(para):\n",
    "    sentences = re.split(r'(?<=[.])\\s+',para)\n",
    "    return sentences"
   ]
  },
  {
   "cell_type": "code",
   "execution_count": 4,
   "metadata": {},
   "outputs": [
    {
     "data": {
      "text/plain": [
       "['🌐 Viblo Talk 2024 đã trở lại với chủ đề Cyber & AI: Lập trình an toàn thời AI.',\n",
       " 'Là sự kiện công nghệ đặc biệt dành cho cộng đồng Viblo, năm nay Viblo Talk đem đến cho các lập trình viên, kỹ sư và chuyên gia bảo mật nội dung về việc kết hợp các phương pháp bảo mật thông tin trong lập trình để nâng cao nhận thức và kỹ năng về an ninh mạng trong kỷ nguyên phát triển mạnh mẽ của AI.',\n",
       " 'Viblo tin chắc rằng, đây là một topic vô cùng nóng hổi, có nhiều khía cạnh và góc nhìn khác nhau để chúng ta cùng tham gia thảo luận.',\n",
       " '🔍 Sự kiện này có gì đặc biệt?\\nTổng quan về AI và tác động đến Công nghệ thông tin: Hiểu rõ hơn về sự phát triển và ảnh hưởng của AI đến ngành công nghệ và các quy trình phát triển phần mềm.',\n",
       " 'Chiến lược an ninh thông tin trong kỷ nguyên AI: Khám phá những phương pháp tiên tiến và các chuẩn mực cần thiết để bảo vệ dữ liệu và sản phẩm trước các rủi ro an ninh trong môi trường AI dưới nhiều góc nhìn khác nhau.',\n",
       " 'Phân tích Case Study và Tình huống giả định: Thực tế hóa kiến thức qua các bài học từ tình huống giả định, đưa ra giải pháp và cùng rút kinh nghiệm với các chuyên gia.',\n",
       " '👥 Khách mời đặc biệt:\\nHost: Anh Nguyễn Anh Tiến - Chuyên gia An ninh mạng từ Sun*\\nSpeaker: Anh Trần Minh Hiếu - Senior Software Engineer tại Acronis Singapore\\nSpeaker: Anh Phạm Văn Toàn - Chuyên gia AI từ Sun*\\n⏰ Thời gian:\\nThứ Bảy, 30/11/2024 từ 15h - 17h\\n🌍 Hình thức tổ chức:\\nOnline qua Zoom\\n🎟 Đối tượng tham dự:\\nLập trình viên, kỹ sư phần mềm, kỹ sư AI, sinh viên công nghệ thông tin và bất cứ ai quan tâm đến an ninh mạng trong thời đại AI!\\n📢 Đăng ký ngay hôm nay để không bỏ lỡ cơ hội giao lưu và học hỏi từ các chuyên gia hàng đầu về bảo mật và AI.',\n",
       " '👉 Link đăng ký: Viblo Talk 2024 - Cyber & AI\\nHãy cùng Viblo lan tỏa kiến thức và nâng cao kỹ năng bảo mật để bảo vệ sản phẩm và dữ liệu trong kỷ nguyên AI!']"
      ]
     },
     "execution_count": 4,
     "metadata": {},
     "output_type": "execute_result"
    }
   ],
   "source": [
    "split_para_to_sentence(df['Plot'][0])"
   ]
  },
  {
   "cell_type": "code",
   "execution_count": 5,
   "metadata": {},
   "outputs": [],
   "source": [
    "from langchain.embeddings import HuggingFaceBgeEmbeddings\n",
    "embeddings = HuggingFaceBgeEmbeddings(model_name=\"BAAI/bge-large-en-v1.5\")"
   ]
  },
  {
   "cell_type": "code",
   "execution_count": 6,
   "metadata": {},
   "outputs": [],
   "source": [
    "import numpy as np\n",
    "from sklearn.metrics.pairwise import cosine_similarity\n",
    "\n",
    "def create_semantic_chunks(sentences):\n",
    "    sen_embeddings = [np.array(embeddings.embed_query(sentence)).reshape(1, -1) for sentence in sentences]\n",
    "    semantic_chunks = []\n",
    "    for i in range(len(sentences)):\n",
    "        if i == 0:\n",
    "            semantic_chunks.append([sentences[i]])\n",
    "        else:\n",
    "            similarity = cosine_similarity(sen_embeddings[i-1], sen_embeddings[i])\n",
    "            if similarity[0][0] > 0.6:\n",
    "                semantic_chunks[-1].append(sentences[i])\n",
    "            else:\n",
    "                semantic_chunks.append([sentences[i]])\n",
    "    return semantic_chunks"
   ]
  },
  {
   "cell_type": "code",
   "execution_count": 7,
   "metadata": {},
   "outputs": [],
   "source": [
    "sentences = split_para_to_sentence(df['Plot'][7])"
   ]
  },
  {
   "cell_type": "code",
   "execution_count": 9,
   "metadata": {},
   "outputs": [
    {
     "data": {
      "text/plain": [
       "[['Choosing the right VPN can save you money while keeping your data secure.',\n",
       "  \"Let's examine how Surfshark and NordVPN stack up against each other.\",\n",
       "  'Price Breakdown & Value\\nSurfshark catches attention with its budget-friendly plans, offering the Starter package at €1.99/month with a 24-month commitment.'],\n",
       " ['They sweeten the deal by adding 4 bonus months to long-term subscriptions.'],\n",
       " ['NordVPN positions itself in a slightly higher price bracket, with their Basic plan starting at €3.59/month for a 2-year subscription.'],\n",
       " ['They include 3 extra months with extended plans.'],\n",
       " ['While pricier, NordVPN packs additional features into their service tiers.',\n",
       "  \"Service Tiers & Features\\nNordVPN's Package Structure:\\nBasic: Standard VPN features\\nPlus: Adds blocking tools, password manager, malware shield\\nUltimate: Includes 1TB cloud storage, €5K cyber insurance coverage\\nSurfshark's Offerings:\\nStarter: Core VPN protection\\nOne: VPN + antivirus bundle\\nOne+: Full security suite with data removal tools\\nStandout Elements\\nSurfshark's Edge:\\nTheir Incogni service stands out by actively clearing your personal data from broker databases - a valuable tool for privacy-conscious users.\"],\n",
       " ['The service hunts down companies trading your information and demands removal, tackling a growing privacy concern head-on.'],\n",
       " [\"NordVPN's Strengths:\\nAdvanced Threat Protection Pro system\\nCybersecurity insurance up to €5K\\nSecure cloud storage integration\\nCoverage for up to 10 devices simultaneously\\nMonthly Investment Options\\n**Surfshark Pricing:\\n**\\nMonthly: €15.45\\nYearly: €2.99/month\\nTwo Years: €1.99/month\\nNordVPN Rates:\\nMonthly: €12.99\\nYearly: €4.59/month\\nTwo Years: €3.59/month\\nBoth services back their products with a 30-day refund policy.\",\n",
       "  'Essential Protection Features\\nThese VPNs deliver core security elements:\\nConnection encryption\\nBreach prevention\\nAnti-hacking measures\\nVirus blocking\\nData collection prevention\\nMaking Your Choice\\nConsider Surfshark if you:\\nPrioritize cost-effectiveness\\nWant active data broker removal\\nNeed straightforward service options\\nNordVPN might suit you better if you:\\nValue included insurance coverage\\nRequire integrated cloud storage\\nWant advanced threat protection\\nSeek shopping fraud protection\\nEach service excels in different areas.',\n",
       "  'Surfshark wins on pure value and privacy focus, while NordVPN shines with its security extras and insurance benefits.',\n",
       "  'For budget-conscious users seeking solid protection, Surfshark delivers excellent value.',\n",
       "  \"If you're after a feature-rich security package and don't mind the higher cost, NordVPN's Ultimate plan offers robust protection plus valuable extras.\",\n",
       "  'Remember: Both providers offer strong core VPN services - your choice should align with your specific needs and budget constraints.'],\n",
       " ['Consider which extra features matter most to you before committing to a long-term plan.']]"
      ]
     },
     "execution_count": 9,
     "metadata": {},
     "output_type": "execute_result"
    }
   ],
   "source": [
    "chunks = create_semantic_chunks(sentences)\n",
    "chunks"
   ]
  },
  {
   "cell_type": "code",
   "execution_count": 22,
   "metadata": {},
   "outputs": [
    {
     "data": {
      "image/png": "[encoded data removed]",
      "text/plain": [
       "<Figure size 640x480 with 1 Axes>"
      ]
     },
     "metadata": {},
     "output_type": "display_data"
    }
   ],
   "source": [
    "import numpy as np\n",
    "from sklearn.metrics.pairwise import cosine_similarity\n",
    "import matplotlib.pyplot as plt\n",
    "\n",
    "# Example: Calculate and plot similarity scores\n",
    "similarities = []\n",
    "sen_embeddings = [np.array(embeddings.embed_query(sentence)).reshape(1, -1) for sentence in sentences]\n",
    "\n",
    "for i in range(1, len(sen_embeddings)):\n",
    "    sim = cosine_similarity(sen_embeddings[i - 1], sen_embeddings[i])[0][0]\n",
    "    similarities.append(sim)\n",
    "\n",
    "# Plot histogram\n",
    "plt.hist(similarities, bins=50, alpha=0.75, color='blue')\n",
    "plt.xlabel(\"Cosine Similarity\")\n",
    "plt.ylabel(\"Frequency\")\n",
    "plt.title(\"Distribution of Sentence Similarity Scores\")\n",
    "plt.show()\n"
   ]
  },
  {
   "cell_type": "code",
   "execution_count": 10,
   "metadata": {},
   "outputs": [
    {
     "data": {
      "text/plain": [
       "8"
      ]
     },
     "execution_count": 10,
     "metadata": {},
     "output_type": "execute_result"
    }
   ],
   "source": [
    "len(chunks)"
   ]
  },
  {
   "cell_type": "code",
   "execution_count": 11,
   "metadata": {},
   "outputs": [
    {
     "data": {
      "text/plain": [
       "['NordVPN positions itself in a slightly higher price bracket, with their Basic plan starting at €3.59/month for a 2-year subscription.']"
      ]
     },
     "execution_count": 11,
     "metadata": {},
     "output_type": "execute_result"
    }
   ],
   "source": [
    "chunks[2]"
   ]
  },
  {
   "cell_type": "code",
   "execution_count": null,
   "metadata": {},
   "outputs": [],
   "source": [
    "API_URL = \"http://localhost:8080/embed\"\n",
    "    \n",
    "DB_CONFIG = {\n",
    "    \"database\": \"vectordb\",\n",
    "    \"user\": \"postgres\",\n",
    "    \"password\": \"password\",\n",
    "    \"host\":\"127.0.0.1\",\n",
    "    \"port\": 5432\n",
    "}\n",
    "TABLE_NAME = \"text_embeddings\"\n",
    "VECTOR_DIMENSION = 1024  \n",
    "\n",
    "embedder = TextEmbedder(API_URL, DB_CONFIG)\n",
    "embedder.ingest_to_db(df, TABLE_NAME, VECTOR_DIMENSION)"
   ]
  }
 ],
 "metadata": {
  "kernelspec": {
   "display_name": "venv",
   "language": "python",
   "name": "python3"
  },
  "language_info": {
   "codemirror_mode": {
    "name": "ipython",
    "version": 3
   },
   "file_extension": ".py",
   "mimetype": "text/x-python",
   "name": "python",
   "nbconvert_exporter": "python",
   "pygments_lexer": "ipython3",
   "version": "3.12.3"
  }
 },
 "nbformat": 4,
 "nbformat_minor": 2
}
